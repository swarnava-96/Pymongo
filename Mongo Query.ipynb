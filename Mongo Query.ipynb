{
 "cells": [
  {
   "cell_type": "markdown",
   "id": "dominant-endorsement",
   "metadata": {},
   "source": [
    "# MongoDB with Python- Querying Json Documents"
   ]
  },
  {
   "cell_type": "code",
   "execution_count": 1,
   "id": "located-cursor",
   "metadata": {},
   "outputs": [],
   "source": [
    "import pymongo"
   ]
  },
  {
   "cell_type": "code",
   "execution_count": 2,
   "id": "composed-integrity",
   "metadata": {},
   "outputs": [],
   "source": [
    "client=pymongo.MongoClient('mongodb://127.0.0.1:27017/')"
   ]
  },
  {
   "cell_type": "code",
   "execution_count": 3,
   "id": "isolated-kitty",
   "metadata": {},
   "outputs": [],
   "source": [
    "mydb=client['Attendance2']"
   ]
  },
  {
   "cell_type": "code",
   "execution_count": 4,
   "id": "talented-wales",
   "metadata": {},
   "outputs": [],
   "source": [
    "empinfo=mydb.attendancetinformation"
   ]
  },
  {
   "cell_type": "markdown",
   "id": "dutch-bicycle",
   "metadata": {},
   "source": [
    "### INSERT"
   ]
  },
  {
   "cell_type": "code",
   "execution_count": 5,
   "id": "rising-correspondence",
   "metadata": {},
   "outputs": [
    {
     "data": {
      "text/plain": [
       "<pymongo.results.InsertOneResult at 0x24e6b1b4048>"
      ]
     },
     "execution_count": 5,
     "metadata": {},
     "output_type": "execute_result"
    }
   ],
   "source": [
    "records={\n",
    "    'firstname':'Ram',\n",
    "    'lastname':'Lal',\n",
    "    'department':'Analytics',\n",
    "    'qualification':'masters',\n",
    "    'age':25}\n",
    "\n",
    "empinfo.insert_one(records)"
   ]
  },
  {
   "cell_type": "code",
   "execution_count": 6,
   "id": "basic-status",
   "metadata": {},
   "outputs": [
    {
     "data": {
      "text/plain": [
       "<pymongo.results.InsertManyResult at 0x24e6b3152c8>"
      ]
     },
     "execution_count": 6,
     "metadata": {},
     "output_type": "execute_result"
    }
   ],
   "source": [
    "records=[{\n",
    "    'firstname':'Mohan',\n",
    "    'lastname':'Pyare',\n",
    "    'department':'Deployment',\n",
    "    'qualification':'phd'},\n",
    "    {\n",
    "    'firstname':'John',\n",
    "    'lastname':'Doe',\n",
    "    'department':'Analytics',\n",
    "    'qualification':'statistics',\n",
    "    'age':35},\n",
    "    {\n",
    "    'firstname':'John ',\n",
    "    'lastname':'Smith',\n",
    "    'department':'Analytics',\n",
    "    'qualification':'masters',\n",
    "    'age':30},\n",
    "    {\n",
    "    'firstname':'Manish',\n",
    "    'lastname':'Sen',\n",
    "    'department':'Analytics',\n",
    "    'qualification':'phd',\n",
    "    'age':34},\n",
    "    {\n",
    "    'firstname':'Ram',\n",
    "    'lastname':'Singh',\n",
    "    'department':'Analytics',\n",
    "    'qualification':'masters',\n",
    "    'age':32}\n",
    "    \n",
    "]\n",
    "empinfo.insert_many(records)\n"
   ]
  },
  {
   "cell_type": "markdown",
   "id": "plain-census",
   "metadata": {},
   "source": [
    "### FIND"
   ]
  },
  {
   "cell_type": "code",
   "execution_count": 7,
   "id": "through-congo",
   "metadata": {},
   "outputs": [
    {
     "data": {
      "text/plain": [
       "{'_id': ObjectId('60d2f9ceba7078dcba8f2c03'),\n",
       " 'firstname': 'Ram',\n",
       " 'lastname': 'Lal',\n",
       " 'department': 'Analytics',\n",
       " 'qualification': 'masters',\n",
       " 'age': 25}"
      ]
     },
     "execution_count": 7,
     "metadata": {},
     "output_type": "execute_result"
    }
   ],
   "source": [
    "empinfo.find_one()   ##returns the first record"
   ]
  },
  {
   "cell_type": "code",
   "execution_count": 8,
   "id": "interesting-timing",
   "metadata": {},
   "outputs": [
    {
     "name": "stdout",
     "output_type": "stream",
     "text": [
      "{'_id': ObjectId('60d2f9ceba7078dcba8f2c03'), 'firstname': 'Ram', 'lastname': 'Lal', 'department': 'Analytics', 'qualification': 'masters', 'age': 25}\n",
      "{'_id': ObjectId('60d2f9cfba7078dcba8f2c04'), 'firstname': 'Mohan', 'lastname': 'Pyare', 'department': 'Deployment', 'qualification': 'phd'}\n",
      "{'_id': ObjectId('60d2f9cfba7078dcba8f2c05'), 'firstname': 'John', 'lastname': 'Doe', 'department': 'Analytics', 'qualification': 'statistics', 'age': 35}\n",
      "{'_id': ObjectId('60d2f9cfba7078dcba8f2c06'), 'firstname': 'John ', 'lastname': 'Smith', 'department': 'Analytics', 'qualification': 'masters', 'age': 30}\n",
      "{'_id': ObjectId('60d2f9cfba7078dcba8f2c07'), 'firstname': 'Manish', 'lastname': 'Sen', 'department': 'Analytics', 'qualification': 'phd', 'age': 34}\n",
      "{'_id': ObjectId('60d2f9cfba7078dcba8f2c08'), 'firstname': 'Ram', 'lastname': 'Singh', 'department': 'Analytics', 'qualification': 'masters', 'age': 32}\n"
     ]
    }
   ],
   "source": [
    "for record in empinfo.find({}):    ##returns all records\n",
    "    print(record)"
   ]
  },
  {
   "cell_type": "code",
   "execution_count": 9,
   "id": "local-third",
   "metadata": {},
   "outputs": [
    {
     "name": "stdout",
     "output_type": "stream",
     "text": [
      "{'_id': ObjectId('60d2f9cfba7078dcba8f2c04'), 'firstname': 'Mohan', 'lastname': 'Pyare', 'department': 'Deployment', 'qualification': 'phd'}\n"
     ]
    }
   ],
   "source": [
    "## Query the json documents based on equality conditions\n",
    "for record in empinfo.find({'firstname':'Mohan'}):\n",
    "    print(record)"
   ]
  },
  {
   "cell_type": "code",
   "execution_count": 10,
   "id": "attended-macintosh",
   "metadata": {},
   "outputs": [
    {
     "name": "stdout",
     "output_type": "stream",
     "text": [
      "{'_id': ObjectId('60d2f9ceba7078dcba8f2c03'), 'firstname': 'Ram', 'lastname': 'Lal', 'department': 'Analytics', 'qualification': 'masters', 'age': 25}\n",
      "{'_id': ObjectId('60d2f9cfba7078dcba8f2c04'), 'firstname': 'Mohan', 'lastname': 'Pyare', 'department': 'Deployment', 'qualification': 'phd'}\n",
      "{'_id': ObjectId('60d2f9cfba7078dcba8f2c06'), 'firstname': 'John ', 'lastname': 'Smith', 'department': 'Analytics', 'qualification': 'masters', 'age': 30}\n",
      "{'_id': ObjectId('60d2f9cfba7078dcba8f2c07'), 'firstname': 'Manish', 'lastname': 'Sen', 'department': 'Analytics', 'qualification': 'phd', 'age': 34}\n",
      "{'_id': ObjectId('60d2f9cfba7078dcba8f2c08'), 'firstname': 'Ram', 'lastname': 'Singh', 'department': 'Analytics', 'qualification': 'masters', 'age': 32}\n"
     ]
    }
   ],
   "source": [
    "## Query documents using query operators($in,$lt,$gt)\n",
    "\n",
    "for record in empinfo.find({'qualification':{'$in':['phd','masters']}}):\n",
    "    print(record)"
   ]
  },
  {
   "cell_type": "code",
   "execution_count": 11,
   "id": "corresponding-notification",
   "metadata": {},
   "outputs": [
    {
     "name": "stdout",
     "output_type": "stream",
     "text": [
      "{'_id': ObjectId('60d2f9ceba7078dcba8f2c03'), 'firstname': 'Ram', 'lastname': 'Lal', 'department': 'Analytics', 'qualification': 'masters', 'age': 25}\n",
      "{'_id': ObjectId('60d2f9cfba7078dcba8f2c06'), 'firstname': 'John ', 'lastname': 'Smith', 'department': 'Analytics', 'qualification': 'masters', 'age': 30}\n",
      "{'_id': ObjectId('60d2f9cfba7078dcba8f2c08'), 'firstname': 'Ram', 'lastname': 'Singh', 'department': 'Analytics', 'qualification': 'masters', 'age': 32}\n"
     ]
    }
   ],
   "source": [
    "## And and Query operators\n",
    "\n",
    "for record in empinfo.find({'qualification':'masters','age':{'$lt':35}}): ###'$lt' means less than operator\n",
    "    print(record)"
   ]
  },
  {
   "cell_type": "code",
   "execution_count": 12,
   "id": "floppy-trust",
   "metadata": {},
   "outputs": [
    {
     "name": "stdout",
     "output_type": "stream",
     "text": [
      "{'_id': ObjectId('60d2f9cfba7078dcba8f2c06'), 'firstname': 'John ', 'lastname': 'Smith', 'department': 'Analytics', 'qualification': 'masters', 'age': 30}\n",
      "{'_id': ObjectId('60d2f9cfba7078dcba8f2c08'), 'firstname': 'Ram', 'lastname': 'Singh', 'department': 'Analytics', 'qualification': 'masters', 'age': 32}\n"
     ]
    }
   ],
   "source": [
    "for record in empinfo.find({'qualification':'masters','age':{'$gt':25}}): ###'$gt' means greater than operator\n",
    "    print(record)"
   ]
  },
  {
   "cell_type": "code",
   "execution_count": 13,
   "id": "seasonal-raising",
   "metadata": {},
   "outputs": [
    {
     "name": "stdout",
     "output_type": "stream",
     "text": [
      "{'_id': ObjectId('60d2f9ceba7078dcba8f2c03'), 'firstname': 'Ram', 'lastname': 'Lal', 'department': 'Analytics', 'qualification': 'masters', 'age': 25}\n",
      "{'_id': ObjectId('60d2f9cfba7078dcba8f2c06'), 'firstname': 'John ', 'lastname': 'Smith', 'department': 'Analytics', 'qualification': 'masters', 'age': 30}\n",
      "{'_id': ObjectId('60d2f9cfba7078dcba8f2c08'), 'firstname': 'Ram', 'lastname': 'Singh', 'department': 'Analytics', 'qualification': 'masters', 'age': 32}\n"
     ]
    }
   ],
   "source": [
    "## OR operators\n",
    "\n",
    "for record in empinfo.find({'$or':[{'firstname':'Ram'},{'qualification':'masters'}]}):\n",
    "    print(record)"
   ]
  },
  {
   "cell_type": "code",
   "execution_count": 14,
   "id": "congressional-rotation",
   "metadata": {},
   "outputs": [
    {
     "name": "stdout",
     "output_type": "stream",
     "text": [
      "{'_id': ObjectId('60d2f9ceba7078dcba8f2c03'), 'firstname': 'Ram', 'lastname': 'Lal', 'department': 'Analytics', 'qualification': 'masters', 'age': 25}\n",
      "{'_id': ObjectId('60d2f9cfba7078dcba8f2c08'), 'firstname': 'Ram', 'lastname': 'Singh', 'department': 'Analytics', 'qualification': 'masters', 'age': 32}\n"
     ]
    }
   ],
   "source": [
    "## AND operators \n",
    "\n",
    "for record in empinfo.find({'$and':[{'firstname':'Ram'},{'qualification':'masters'}]}):\n",
    "    print(record)"
   ]
  },
  {
   "cell_type": "code",
   "execution_count": 15,
   "id": "smaller-fleece",
   "metadata": {},
   "outputs": [],
   "source": [
    "## NESTED documents\n",
    "\n",
    "inventory=mydb.inventory"
   ]
  },
  {
   "cell_type": "code",
   "execution_count": 16,
   "id": "tribal-booking",
   "metadata": {},
   "outputs": [],
   "source": [
    "inventory.insert_many( [\n",
    "   { 'item': \"journal\", 'qty': 25, 'size': { 'h': 14, 'w': 21,'uom': \"cm\" }, 'status': \"A\" },\n",
    "   { 'item': \"notebook\", 'qty': 50,'size': { 'h': 8.5, 'w': 11,'uom': \"in\" },'status': \"A\" },\n",
    "   { 'item': \"paper\", 'qty': 100, 'size': { 'h': 8.5, 'w': 11,'uom': \"in\" },'status': \"D\" },\n",
    "   { 'item': \"planner\", 'qty': 75, 'size': { 'h': 22.85,'w': 30,'uom': \"cm\" },'status': \"D\" },\n",
    "   { 'item': \"postcard\", 'qty': 45, 'size': { 'h': 10, 'w': 15.25,'uom': \"cm\" },'status': \"A\" }\n",
    "]);"
   ]
  },
  {
   "cell_type": "code",
   "execution_count": 17,
   "id": "material-departure",
   "metadata": {},
   "outputs": [
    {
     "name": "stdout",
     "output_type": "stream",
     "text": [
      "{'_id': ObjectId('60d2fc70ba7078dcba8f2c09'), 'item': 'journal', 'qty': 25, 'size': {'h': 14, 'w': 21, 'uom': 'cm'}, 'status': 'A'}\n"
     ]
    }
   ],
   "source": [
    "for records in inventory.find({'size': { 'h': 14, 'w': 21,'uom': \"cm\" }}):\n",
    "    print(records)"
   ]
  }
 ],
 "metadata": {
  "kernelspec": {
   "display_name": "Python 3",
   "language": "python",
   "name": "python3"
  },
  "language_info": {
   "codemirror_mode": {
    "name": "ipython",
    "version": 3
   },
   "file_extension": ".py",
   "mimetype": "text/x-python",
   "name": "python",
   "nbconvert_exporter": "python",
   "pygments_lexer": "ipython3",
   "version": "3.7.3"
  }
 },
 "nbformat": 4,
 "nbformat_minor": 5
}
